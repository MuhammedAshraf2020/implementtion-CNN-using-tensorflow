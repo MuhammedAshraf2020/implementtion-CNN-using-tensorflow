{
  "nbformat": 4,
  "nbformat_minor": 0,
  "metadata": {
    "colab": {
      "name": "cnn using Tensorflow.ipynb",
      "provenance": [],
      "collapsed_sections": [],
      "toc_visible": true,
      "authorship_tag": "ABX9TyPaWOTivGXgT8ztALUwgkLO",
      "include_colab_link": true
    },
    "kernelspec": {
      "name": "python3",
      "display_name": "Python 3"
    },
    "accelerator": "GPU"
  },
  "cells": [
    {
      "cell_type": "markdown",
      "metadata": {
        "id": "view-in-github",
        "colab_type": "text"
      },
      "source": [
        "<a href=\"https://colab.research.google.com/github/MuhammedAshraf2020/implementtion-CNN-using-tensorflow/blob/main/cnn_using_Tensorflow.ipynb\" target=\"_parent\"><img src=\"https://colab.research.google.com/assets/colab-badge.svg\" alt=\"Open In Colab\"/></a>"
      ]
    },
    {
      "cell_type": "code",
      "metadata": {
        "id": "192sA7M-pZp1"
      },
      "source": [
        "from keras.datasets.fashion_mnist import load_data\r\n",
        "import tensorflow as tf"
      ],
      "execution_count": 1,
      "outputs": []
    },
    {
      "cell_type": "code",
      "metadata": {
        "id": "AGzSra7upg2W"
      },
      "source": [
        "(X_train , y_train) , (X_test , y_test) = load_data()"
      ],
      "execution_count": 2,
      "outputs": []
    },
    {
      "cell_type": "code",
      "metadata": {
        "id": "-FOqJXXmV5ha"
      },
      "source": [
        "y_train = tf.keras.utils.to_categorical(y_train , num_classes = 10)\r\n",
        "y_test = tf.keras.utils.to_categorical(y_test , num_classes = 10)"
      ],
      "execution_count": 3,
      "outputs": []
    },
    {
      "cell_type": "code",
      "metadata": {
        "id": "seEVAlwAqFQP"
      },
      "source": [
        "X_train = X_train.reshape(X_train.shape[0] , X_train.shape[1] , X_train.shape[2], 1)"
      ],
      "execution_count": 4,
      "outputs": []
    },
    {
      "cell_type": "code",
      "metadata": {
        "id": "oz2nzmDDqZK2"
      },
      "source": [
        "X_test = X_test.reshape(X_test.shape[0] , X_train.shape[1] , X_train.shape[2], 1)"
      ],
      "execution_count": 5,
      "outputs": []
    },
    {
      "cell_type": "code",
      "metadata": {
        "id": "NNNFZ3FoCPR3"
      },
      "source": [
        "from Model import Model\r\n",
        "from layers import Dense , Flatten , Conv2D , MaxPooling2D , Input\r\n",
        "import tensorflow as tf"
      ],
      "execution_count": 6,
      "outputs": []
    },
    {
      "cell_type": "code",
      "metadata": {
        "id": "_iL_ho0Tshmr"
      },
      "source": [
        "model = Model()\r\n",
        "model.add(Input((28 , 28 , 1)))\r\n",
        "model.add(Conv2D(kernel_size = 3 , num_filters = 32 ,strides =  1 , padding = \"Valid\"))\r\n",
        "model.add(MaxPooling2D(kernel_size = 2 , strides=2 ))\r\n",
        "model.add(Conv2D(kernel_size = 3 , num_filters = 32 ,strides =  1 , padding = \"Valid\"))\r\n",
        "model.add(MaxPooling2D(kernel_size = 2 , strides=2 ))\r\n",
        "model.add(Flatten())\r\n",
        "model.add(Dense(64))\r\n",
        "model.add(Dense(10))\r\n",
        "model.Compile(num_classes = 10 , loss = \"softmax_cross_entropy\" , optimizer = \"Adam\")"
      ],
      "execution_count": 7,
      "outputs": []
    },
    {
      "cell_type": "code",
      "metadata": {
        "id": "MFFLeXACucR2",
        "outputId": "98b0a456-769e-401d-b2af-1e63ef386b1a",
        "colab": {
          "base_uri": "https://localhost:8080/"
        }
      },
      "source": [
        "model.fit(X_train , y_train , epochs = 10 , batch_size = 100 , validation_rate = 0.18)"
      ],
      "execution_count": 8,
      "outputs": [
        {
          "output_type": "stream",
          "text": [
            "Epoch: 1 train_cost = 1.897 train_acc = 0.563 valid_acc = 0.638\n",
            "Epoch: 2 train_cost = 1.766 train_acc = 0.694 valid_acc = 0.731\n",
            "Epoch: 3 train_cost = 1.729 train_acc = 0.732 valid_acc = 0.738\n",
            "Epoch: 4 train_cost = 1.621 train_acc = 0.840 valid_acc = 0.864\n",
            "Epoch: 5 train_cost = 1.599 train_acc = 0.862 valid_acc = 0.873\n",
            "Epoch: 6 train_cost = 1.590 train_acc = 0.871 valid_acc = 0.866\n",
            "Epoch: 7 train_cost = 1.584 train_acc = 0.877 valid_acc = 0.877\n",
            "Epoch: 8 train_cost = 1.580 train_acc = 0.881 valid_acc = 0.863\n",
            "Epoch: 9 train_cost = 1.581 train_acc = 0.880 valid_acc = 0.880\n",
            "Epoch: 10 train_cost = 1.578 train_acc = 0.883 valid_acc = 0.879\n"
          ],
          "name": "stdout"
        }
      ]
    },
    {
      "cell_type": "code",
      "metadata": {
        "id": "EyvhuWEy3Q8D"
      },
      "source": [
        "preds = model.predict(X_test)"
      ],
      "execution_count": 9,
      "outputs": []
    },
    {
      "cell_type": "code",
      "metadata": {
        "id": "qe-IvOj23U3h",
        "outputId": "fa3d2f5c-6e5a-4b59-f4ee-ce0b1ac6f7c0",
        "colab": {
          "base_uri": "https://localhost:8080/"
        }
      },
      "source": [
        "preds.shape "
      ],
      "execution_count": 10,
      "outputs": [
        {
          "output_type": "execute_result",
          "data": {
            "text/plain": [
              "(10000, 10)"
            ]
          },
          "metadata": {
            "tags": []
          },
          "execution_count": 10
        }
      ]
    },
    {
      "cell_type": "code",
      "metadata": {
        "id": "cNtcX9eS3ZDa",
        "outputId": "fcfb7a04-f056-4a5b-9790-8962d4e745e6",
        "colab": {
          "base_uri": "https://localhost:8080/"
        }
      },
      "source": [
        "model.evaluate(X_test , y_test)"
      ],
      "execution_count": 11,
      "outputs": [
        {
          "output_type": "execute_result",
          "data": {
            "text/plain": [
              "0.8684"
            ]
          },
          "metadata": {
            "tags": []
          },
          "execution_count": 11
        }
      ]
    },
    {
      "cell_type": "code",
      "metadata": {
        "id": "fnpAVSLr38oj"
      },
      "source": [
        "from sklearn.model_selection import train_test_split "
      ],
      "execution_count": 12,
      "outputs": []
    },
    {
      "cell_type": "code",
      "metadata": {
        "id": "UpKCAzhu4EMk"
      },
      "source": [
        "X1 , y1 , X2 , y = train_test_split(X_train , y_train , test_size = 0.1)"
      ],
      "execution_count": 13,
      "outputs": []
    },
    {
      "cell_type": "code",
      "metadata": {
        "id": "HyFDyw6s4s_G",
        "outputId": "7e649915-327f-455c-aaf4-56d67e3c9d3b",
        "colab": {
          "base_uri": "https://localhost:8080/"
        }
      },
      "source": [
        "X2.shape"
      ],
      "execution_count": 14,
      "outputs": [
        {
          "output_type": "execute_result",
          "data": {
            "text/plain": [
              "(54000, 10)"
            ]
          },
          "metadata": {
            "tags": []
          },
          "execution_count": 14
        }
      ]
    }
  ]
}